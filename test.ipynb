{
 "cells": [
  {
   "cell_type": "code",
   "execution_count": 1,
   "metadata": {},
   "outputs": [
    {
     "name": "stdout",
     "output_type": "stream",
     "text": [
      "['AIMessagePromptTemplate', 'BaseChatPromptTemplate', 'BasePromptTemplate', 'ChatMessagePromptTemplate', 'ChatPromptTemplate', 'DictPromptTemplate', 'FewShotChatMessagePromptTemplate', 'FewShotPromptTemplate', 'FewShotPromptWithTemplates', 'HumanMessagePromptTemplate', 'MessagesPlaceholder', 'PipelinePromptTemplate', 'PromptTemplate', 'StringPromptTemplate', 'SystemMessagePromptTemplate', 'aformat_document', 'check_valid_template', 'format_document', 'get_template_variables', 'jinja2_formatter', 'load_prompt', 'validate_jinja2']\n"
     ]
    }
   ],
   "source": [
    "import langchain_core.prompts\n",
    "print(dir(langchain_core.prompts))\n"
   ]
  },
  {
   "cell_type": "code",
   "execution_count": 2,
   "metadata": {},
   "outputs": [
    {
     "name": "stdout",
     "output_type": "stream",
     "text": [
      "200\n",
      "{'choices': [{'finish_reason': 'stop', 'index': 0, 'message': {'content': '你好👋！我是人工智能助手，很高兴见到你，有什么可以帮助你的吗？', 'role': 'assistant'}}], 'created': 1752540743, 'id': '20250715085221eebeb9029fc74e0f', 'model': 'glm-4-flash', 'request_id': '20250715085221eebeb9029fc74e0f', 'usage': {'completion_tokens': 20, 'prompt_tokens': 6, 'total_tokens': 26}}\n"
     ]
    }
   ],
   "source": [
    "import requests\n",
    "\n",
    "api_key = \"0eb1df1ab7654cf1b8560d2e3ff6f1bc.a2xzbdRhI1Igw3wz\"\n",
    "api_base = \"https://open.bigmodel.cn/api/paas/v4/\"\n",
    "model_name = \"glm-4-flash\"\n",
    "\n",
    "headers = {\n",
    "    \"Authorization\": f\"Bearer {api_key}\",\n",
    "    \"Content-Type\": \"application/json\"\n",
    "}\n",
    "\n",
    "data = {\n",
    "    \"model\": model_name,\n",
    "    \"messages\": [{\"role\": \"user\", \"content\": \"你好\"}]\n",
    "}\n",
    "\n",
    "response = requests.post(f\"{api_base}chat/completions\", headers=headers, json=data)\n",
    "print(response.status_code)  # 200 表示成功，401 表示认证失败\n",
    "print(response.json())  # 查看返回内容\n"
   ]
  }
 ],
 "metadata": {
  "kernelspec": {
   "display_name": "CBD",
   "language": "python",
   "name": "python3"
  },
  "language_info": {
   "codemirror_mode": {
    "name": "ipython",
    "version": 3
   },
   "file_extension": ".py",
   "mimetype": "text/x-python",
   "name": "python",
   "nbconvert_exporter": "python",
   "pygments_lexer": "ipython3",
   "version": "3.10.18"
  }
 },
 "nbformat": 4,
 "nbformat_minor": 2
}
